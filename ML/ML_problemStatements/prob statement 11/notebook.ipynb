{
 "cells": [
  {
   "cell_type": "code",
   "execution_count": 1,
   "metadata": {},
   "outputs": [
    {
     "name": "stdout",
     "output_type": "stream",
     "text": [
      "Clusters after one iteration:\n",
      "C1: [array([0.1, 0.6]), array([0.15, 0.71]), array([0.08, 0.9 ]), array([0.16, 0.85]), array([0.25, 0.5 ])]\n",
      "C2: [array([0.2, 0.3]), array([0.24, 0.1 ]), array([0.3, 0.2])]\n",
      "\n",
      "Updated centroids:\n",
      "m1: [0.148 0.712]\n",
      "m2: [0.24666667 0.2       ]\n"
     ]
    }
   ],
   "source": [
    "import numpy as np\n",
    "\n",
    "# Given data points\n",
    "points = np.array([[0.1, 0.6], [0.15, 0.71], [0.08, 0.9], [0.16, 0.85],\n",
    "                   [0.2, 0.3], [0.25, 0.5], [0.24, 0.1], [0.3, 0.2]])\n",
    "\n",
    "# Given initial centroids\n",
    "m1 = points[0]  # P1\n",
    "m2 = points[7]  # P8\n",
    "\n",
    "# Perform K-Means clustering for one iteration\n",
    "def k_means_clustering(points, m1, m2):\n",
    "    clusters = {'C1': [], 'C2': []}\n",
    "\n",
    "    # Step 1: Assign points to clusters\n",
    "    for point in points:\n",
    "        dist_to_m1 = np.linalg.norm(point - m1)\n",
    "        dist_to_m2 = np.linalg.norm(point - m2)\n",
    "\n",
    "        if dist_to_m1 < dist_to_m2:\n",
    "            clusters['C1'].append(point)\n",
    "        else:\n",
    "            clusters['C2'].append(point)\n",
    "\n",
    "    # Step 2: Update centroids\n",
    "    new_m1 = np.mean(clusters['C1'], axis=0)\n",
    "    new_m2 = np.mean(clusters['C2'], axis=0)\n",
    "\n",
    "    return clusters, new_m1, new_m2\n",
    "\n",
    "# Perform one iteration of K-Means clustering\n",
    "clusters, updated_m1, updated_m2 = k_means_clustering(points, m1, m2)\n",
    "\n",
    "# Print results\n",
    "print(\"Clusters after one iteration:\")\n",
    "print(\"C1:\", clusters['C1'])\n",
    "print(\"C2:\", clusters['C2'])\n",
    "\n",
    "print(\"\\nUpdated centroids:\")\n",
    "print(\"m1:\", updated_m1)\n",
    "print(\"m2:\", updated_m2)\n"
   ]
  },
  {
   "cell_type": "code",
   "execution_count": null,
   "metadata": {},
   "outputs": [],
   "source": []
  }
 ],
 "metadata": {
  "kernelspec": {
   "display_name": "Python 3",
   "language": "python",
   "name": "python3"
  },
  "language_info": {
   "codemirror_mode": {
    "name": "ipython",
    "version": 3
   },
   "file_extension": ".py",
   "mimetype": "text/x-python",
   "name": "python",
   "nbconvert_exporter": "python",
   "pygments_lexer": "ipython3",
   "version": "3.9.7"
  }
 },
 "nbformat": 4,
 "nbformat_minor": 2
}
