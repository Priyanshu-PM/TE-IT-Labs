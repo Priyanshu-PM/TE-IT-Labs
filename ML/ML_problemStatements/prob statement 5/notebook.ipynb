{
  "cells": [
    {
      "cell_type": "code",
      "execution_count": 1,
      "metadata": {
        "id": "rs-S-UsiKjDZ"
      },
      "outputs": [],
      "source": [
        "import numpy as np\n",
        "import pandas as pd\n",
        "\n",
        "from sklearn.preprocessing import StandardScaler\n",
        "from sklearn.model_selection import train_test_split\n",
        "from sklearn.cluster import KMeans\n",
        "\n",
        "import matplotlib.pyplot as plt"
      ]
    },
    {
      "cell_type": "code",
      "execution_count": 2,
      "metadata": {
        "colab": {
          "base_uri": "https://localhost:8080/"
        },
        "id": "GI9J8S0BK5CB",
        "outputId": "dd26da6d-394b-49e8-ca5d-a016790068c8"
      },
      "outputs": [
        {
          "name": "stdout",
          "output_type": "stream",
          "text": [
            "<class 'pandas.core.frame.DataFrame'>\n",
            "RangeIndex: 493 entries, 0 to 492\n",
            "Data columns (total 22 columns):\n",
            " #   Column                          Non-Null Count  Dtype  \n",
            "---  ------                          --------------  -----  \n",
            " 0   name_of_city                    493 non-null    object \n",
            " 1   state_code                      493 non-null    int64  \n",
            " 2   state_name                      493 non-null    object \n",
            " 3   dist_code                       493 non-null    int64  \n",
            " 4   population_total                493 non-null    int64  \n",
            " 5   population_male                 493 non-null    int64  \n",
            " 6   population_female               493 non-null    int64  \n",
            " 7   0-6_population_total            493 non-null    int64  \n",
            " 8   0-6_population_male             493 non-null    int64  \n",
            " 9   0-6_population_female           493 non-null    int64  \n",
            " 10  literates_total                 493 non-null    int64  \n",
            " 11  literates_male                  493 non-null    int64  \n",
            " 12  literates_female                493 non-null    int64  \n",
            " 13  sex_ratio                       493 non-null    int64  \n",
            " 14  child_sex_ratio                 493 non-null    int64  \n",
            " 15  effective_literacy_rate_total   493 non-null    float64\n",
            " 16  effective_literacy_rate_male    493 non-null    float64\n",
            " 17  effective_literacy_rate_female  493 non-null    float64\n",
            " 18  location                        493 non-null    object \n",
            " 19  total_graduates                 493 non-null    int64  \n",
            " 20  male_graduates                  493 non-null    int64  \n",
            " 21  female_graduates                493 non-null    int64  \n",
            "dtypes: float64(3), int64(16), object(3)\n",
            "memory usage: 84.9+ KB\n"
          ]
        }
      ],
      "source": [
        "data = pd.read_csv('cities_r2.csv')\n",
        "\n",
        "data.info()"
      ]
    },
    {
      "cell_type": "code",
      "execution_count": 3,
      "metadata": {
        "colab": {
          "base_uri": "https://localhost:8080/"
        },
        "id": "EU-ZOvUvLBSg",
        "outputId": "32b513bd-9fbd-416c-bc47-dfc6f0d311c3"
      },
      "outputs": [
        {
          "data": {
            "text/plain": [
              "(493, 22)"
            ]
          },
          "execution_count": 3,
          "metadata": {},
          "output_type": "execute_result"
        }
      ],
      "source": [
        "data.shape"
      ]
    },
    {
      "cell_type": "code",
      "execution_count": 4,
      "metadata": {
        "colab": {
          "base_uri": "https://localhost:8080/"
        },
        "id": "LcOLvMcRLFGs",
        "outputId": "383e061c-42f0-4305-d2d8-6a02c6277baf"
      },
      "outputs": [
        {
          "data": {
            "text/plain": [
              "name_of_city                      0\n",
              "state_code                        0\n",
              "state_name                        0\n",
              "dist_code                         0\n",
              "population_total                  0\n",
              "population_male                   0\n",
              "population_female                 0\n",
              "0-6_population_total              0\n",
              "0-6_population_male               0\n",
              "0-6_population_female             0\n",
              "literates_total                   0\n",
              "literates_male                    0\n",
              "literates_female                  0\n",
              "sex_ratio                         0\n",
              "child_sex_ratio                   0\n",
              "effective_literacy_rate_total     0\n",
              "effective_literacy_rate_male      0\n",
              "effective_literacy_rate_female    0\n",
              "location                          0\n",
              "total_graduates                   0\n",
              "male_graduates                    0\n",
              "female_graduates                  0\n",
              "dtype: int64"
            ]
          },
          "execution_count": 4,
          "metadata": {},
          "output_type": "execute_result"
        }
      ],
      "source": [
        "data.isnull().sum()"
      ]
    },
    {
      "cell_type": "code",
      "execution_count": 5,
      "metadata": {
        "colab": {
          "base_uri": "https://localhost:8080/",
          "height": 307
        },
        "id": "5eSwPalJLHCk",
        "outputId": "dafa1906-8365-4abb-f430-abc57ed851f6"
      },
      "outputs": [
        {
          "data": {
            "text/html": [
              "<div>\n",
              "<style scoped>\n",
              "    .dataframe tbody tr th:only-of-type {\n",
              "        vertical-align: middle;\n",
              "    }\n",
              "\n",
              "    .dataframe tbody tr th {\n",
              "        vertical-align: top;\n",
              "    }\n",
              "\n",
              "    .dataframe thead th {\n",
              "        text-align: right;\n",
              "    }\n",
              "</style>\n",
              "<table border=\"1\" class=\"dataframe\">\n",
              "  <thead>\n",
              "    <tr style=\"text-align: right;\">\n",
              "      <th></th>\n",
              "      <th>name_of_city</th>\n",
              "      <th>state_code</th>\n",
              "      <th>state_name</th>\n",
              "      <th>dist_code</th>\n",
              "      <th>population_total</th>\n",
              "      <th>population_male</th>\n",
              "      <th>population_female</th>\n",
              "      <th>0-6_population_total</th>\n",
              "      <th>0-6_population_male</th>\n",
              "      <th>0-6_population_female</th>\n",
              "      <th>...</th>\n",
              "      <th>literates_female</th>\n",
              "      <th>sex_ratio</th>\n",
              "      <th>child_sex_ratio</th>\n",
              "      <th>effective_literacy_rate_total</th>\n",
              "      <th>effective_literacy_rate_male</th>\n",
              "      <th>effective_literacy_rate_female</th>\n",
              "      <th>location</th>\n",
              "      <th>total_graduates</th>\n",
              "      <th>male_graduates</th>\n",
              "      <th>female_graduates</th>\n",
              "    </tr>\n",
              "  </thead>\n",
              "  <tbody>\n",
              "    <tr>\n",
              "      <th>0</th>\n",
              "      <td>Abohar</td>\n",
              "      <td>3</td>\n",
              "      <td>PUNJAB</td>\n",
              "      <td>9</td>\n",
              "      <td>145238</td>\n",
              "      <td>76840</td>\n",
              "      <td>68398</td>\n",
              "      <td>15870</td>\n",
              "      <td>8587</td>\n",
              "      <td>7283</td>\n",
              "      <td>...</td>\n",
              "      <td>44972</td>\n",
              "      <td>890</td>\n",
              "      <td>848</td>\n",
              "      <td>79.86</td>\n",
              "      <td>85.49</td>\n",
              "      <td>73.59</td>\n",
              "      <td>30.1452928,74.1993043</td>\n",
              "      <td>16287</td>\n",
              "      <td>8612</td>\n",
              "      <td>7675</td>\n",
              "    </tr>\n",
              "    <tr>\n",
              "      <th>1</th>\n",
              "      <td>Achalpur</td>\n",
              "      <td>27</td>\n",
              "      <td>MAHARASHTRA</td>\n",
              "      <td>7</td>\n",
              "      <td>112293</td>\n",
              "      <td>58256</td>\n",
              "      <td>54037</td>\n",
              "      <td>11810</td>\n",
              "      <td>6186</td>\n",
              "      <td>5624</td>\n",
              "      <td>...</td>\n",
              "      <td>43086</td>\n",
              "      <td>928</td>\n",
              "      <td>909</td>\n",
              "      <td>91.99</td>\n",
              "      <td>94.77</td>\n",
              "      <td>89.00</td>\n",
              "      <td>21.257584,77.5086754</td>\n",
              "      <td>8863</td>\n",
              "      <td>5269</td>\n",
              "      <td>3594</td>\n",
              "    </tr>\n",
              "    <tr>\n",
              "      <th>2</th>\n",
              "      <td>Adilabad</td>\n",
              "      <td>28</td>\n",
              "      <td>ANDHRA PRADESH</td>\n",
              "      <td>1</td>\n",
              "      <td>117388</td>\n",
              "      <td>59232</td>\n",
              "      <td>58156</td>\n",
              "      <td>13103</td>\n",
              "      <td>6731</td>\n",
              "      <td>6372</td>\n",
              "      <td>...</td>\n",
              "      <td>37660</td>\n",
              "      <td>982</td>\n",
              "      <td>947</td>\n",
              "      <td>80.51</td>\n",
              "      <td>88.18</td>\n",
              "      <td>72.73</td>\n",
              "      <td>19.0809075,79.560344</td>\n",
              "      <td>10565</td>\n",
              "      <td>6797</td>\n",
              "      <td>3768</td>\n",
              "    </tr>\n",
              "    <tr>\n",
              "      <th>3</th>\n",
              "      <td>Adityapur</td>\n",
              "      <td>20</td>\n",
              "      <td>JHARKHAND</td>\n",
              "      <td>24</td>\n",
              "      <td>173988</td>\n",
              "      <td>91495</td>\n",
              "      <td>82493</td>\n",
              "      <td>23042</td>\n",
              "      <td>12063</td>\n",
              "      <td>10979</td>\n",
              "      <td>...</td>\n",
              "      <td>54515</td>\n",
              "      <td>902</td>\n",
              "      <td>910</td>\n",
              "      <td>83.46</td>\n",
              "      <td>89.98</td>\n",
              "      <td>76.23</td>\n",
              "      <td>22.7834741,86.1576889</td>\n",
              "      <td>19225</td>\n",
              "      <td>12189</td>\n",
              "      <td>7036</td>\n",
              "    </tr>\n",
              "    <tr>\n",
              "      <th>4</th>\n",
              "      <td>Adoni</td>\n",
              "      <td>28</td>\n",
              "      <td>ANDHRA PRADESH</td>\n",
              "      <td>21</td>\n",
              "      <td>166537</td>\n",
              "      <td>82743</td>\n",
              "      <td>83794</td>\n",
              "      <td>18406</td>\n",
              "      <td>9355</td>\n",
              "      <td>9051</td>\n",
              "      <td>...</td>\n",
              "      <td>45089</td>\n",
              "      <td>1013</td>\n",
              "      <td>968</td>\n",
              "      <td>68.38</td>\n",
              "      <td>76.58</td>\n",
              "      <td>60.33</td>\n",
              "      <td>15.6322227,77.2728368</td>\n",
              "      <td>11902</td>\n",
              "      <td>7871</td>\n",
              "      <td>4031</td>\n",
              "    </tr>\n",
              "  </tbody>\n",
              "</table>\n",
              "<p>5 rows × 22 columns</p>\n",
              "</div>"
            ],
            "text/plain": [
              "  name_of_city  state_code      state_name  dist_code  population_total  \\\n",
              "0      Abohar            3          PUNJAB          9            145238   \n",
              "1    Achalpur           27     MAHARASHTRA          7            112293   \n",
              "2    Adilabad           28  ANDHRA PRADESH          1            117388   \n",
              "3   Adityapur           20       JHARKHAND         24            173988   \n",
              "4       Adoni           28  ANDHRA PRADESH         21            166537   \n",
              "\n",
              "   population_male  population_female  0-6_population_total  \\\n",
              "0            76840              68398                 15870   \n",
              "1            58256              54037                 11810   \n",
              "2            59232              58156                 13103   \n",
              "3            91495              82493                 23042   \n",
              "4            82743              83794                 18406   \n",
              "\n",
              "   0-6_population_male  0-6_population_female  ...  literates_female  \\\n",
              "0                 8587                   7283  ...             44972   \n",
              "1                 6186                   5624  ...             43086   \n",
              "2                 6731                   6372  ...             37660   \n",
              "3                12063                  10979  ...             54515   \n",
              "4                 9355                   9051  ...             45089   \n",
              "\n",
              "   sex_ratio  child_sex_ratio  effective_literacy_rate_total  \\\n",
              "0        890              848                          79.86   \n",
              "1        928              909                          91.99   \n",
              "2        982              947                          80.51   \n",
              "3        902              910                          83.46   \n",
              "4       1013              968                          68.38   \n",
              "\n",
              "   effective_literacy_rate_male  effective_literacy_rate_female  \\\n",
              "0                         85.49                           73.59   \n",
              "1                         94.77                           89.00   \n",
              "2                         88.18                           72.73   \n",
              "3                         89.98                           76.23   \n",
              "4                         76.58                           60.33   \n",
              "\n",
              "                location  total_graduates male_graduates  female_graduates  \n",
              "0  30.1452928,74.1993043            16287           8612              7675  \n",
              "1   21.257584,77.5086754             8863           5269              3594  \n",
              "2   19.0809075,79.560344            10565           6797              3768  \n",
              "3  22.7834741,86.1576889            19225          12189              7036  \n",
              "4  15.6322227,77.2728368            11902           7871              4031  \n",
              "\n",
              "[5 rows x 22 columns]"
            ]
          },
          "execution_count": 5,
          "metadata": {},
          "output_type": "execute_result"
        }
      ],
      "source": [
        "data.head()"
      ]
    },
    {
      "cell_type": "code",
      "execution_count": 6,
      "metadata": {
        "id": "hQ1jwpXxLMeT"
      },
      "outputs": [],
      "source": [
        "selected_col = data[['effective_literacy_rate_total']]"
      ]
    },
    {
      "cell_type": "code",
      "execution_count": 7,
      "metadata": {
        "id": "JhRojN3nLwHT"
      },
      "outputs": [],
      "source": [
        "sc = StandardScaler()"
      ]
    },
    {
      "cell_type": "code",
      "execution_count": 8,
      "metadata": {
        "id": "pLAfrgPELzaE"
      },
      "outputs": [],
      "source": [
        "scaled_col = sc.fit_transform(selected_col)"
      ]
    },
    {
      "cell_type": "code",
      "execution_count": 9,
      "metadata": {
        "id": "gVjxUY30L2ic"
      },
      "outputs": [],
      "source": [
        "clusters = []\n",
        "for i in range(1, 25):\n",
        "  kmeans = KMeans(n_clusters= i, n_init = 10, random_state = 10)\n",
        "  kmeans.fit(scaled_col)\n",
        "  clusters.append(kmeans.inertia_)"
      ]
    },
    {
      "cell_type": "code",
      "execution_count": 10,
      "metadata": {
        "colab": {
          "base_uri": "https://localhost:8080/"
        },
        "id": "iXyvk_AeNFm7",
        "outputId": "07743620-f750-47f0-f6bf-d3ae5f5c0b46"
      },
      "outputs": [
        {
          "data": {
            "text/plain": [
              "[492.9999999999999,\n",
              " 194.09785646249307,\n",
              " 106.13437469098344,\n",
              " 67.26695490379966,\n",
              " 46.00677795226856,\n",
              " 32.76995343998878,\n",
              " 24.036905321534867,\n",
              " 18.386521140624705,\n",
              " 15.248047705397417,\n",
              " 11.881743655409116,\n",
              " 9.285863483135946,\n",
              " 7.70503614978575,\n",
              " 6.315368456828737,\n",
              " 5.3880958799428935,\n",
              " 4.521926573632753,\n",
              " 3.9063981463999227,\n",
              " 3.356784247689332,\n",
              " 3.039726971489389,\n",
              " 2.6993464883803173,\n",
              " 2.3229586444255625,\n",
              " 2.0940842773869215,\n",
              " 1.8826505528978368,\n",
              " 1.6603560137559912,\n",
              " 1.4645455547767612]"
            ]
          },
          "execution_count": 10,
          "metadata": {},
          "output_type": "execute_result"
        }
      ],
      "source": [
        "clusters"
      ]
    },
    {
      "cell_type": "code",
      "execution_count": 11,
      "metadata": {
        "colab": {
          "base_uri": "https://localhost:8080/",
          "height": 564
        },
        "id": "ygXSpx04NI2t",
        "outputId": "2f98fae6-82e2-46e1-c8e4-e55c0db69d2b"
      },
      "outputs": [
        {
          "data": {
            "image/png": "[encoded data removed]",
            "text/plain": [
              "<Figure size 576x432 with 1 Axes>"
            ]
          },
          "metadata": {
            "needs_background": "light"
          },
          "output_type": "display_data"
        }
      ],
      "source": [
        "plt.figure(figsize=(8, 6))\n",
        "plt.plot(range(1, 25), clusters, color='blue', linestyle='--', marker='o', markerfacecolor='red', markersize=10)\n",
        "plt.title('Finding the value of K using Elbow method')\n",
        "plt.xlabel('No. of clusters')\n",
        "plt.ylabel('Cluster_Score')\n",
        "plt.show()"
      ]
    },
    {
      "cell_type": "code",
      "execution_count": 12,
      "metadata": {
        "id": "lqoRLdbzNwBz"
      },
      "outputs": [],
      "source": [
        "# The elbow method is used to find the number of clusters in the data\n",
        "# By visualization, we get the value of K is 4"
      ]
    },
    {
      "cell_type": "code",
      "execution_count": 13,
      "metadata": {
        "colab": {
          "base_uri": "https://localhost:8080/",
          "height": 129
        },
        "id": "xA2ZMZCJOQjC",
        "outputId": "9502746d-feef-47c7-b1fa-93790f7c635d"
      },
      "outputs": [
        {
          "name": "stderr",
          "output_type": "stream",
          "text": [
            "C:\\Users\\priyanshu\\AppData\\Roaming\\Python\\Python39\\site-packages\\sklearn\\cluster\\_kmeans.py:870: FutureWarning: The default value of `n_init` will change from 10 to 'auto' in 1.4. Set the value of `n_init` explicitly to suppress the warning\n",
            "  warnings.warn(\n"
          ]
        },
        {
          "data": {
            "text/html": [
              "<style>#sk-container-id-1 {color: black;background-color: white;}#sk-container-id-1 pre{padding: 0;}#sk-container-id-1 div.sk-toggleable {background-color: white;}#sk-container-id-1 label.sk-toggleable__label {cursor: pointer;display: block;width: 100%;margin-bottom: 0;padding: 0.3em;box-sizing: border-box;text-align: center;}#sk-container-id-1 label.sk-toggleable__label-arrow:before {content: \"▸\";float: left;margin-right: 0.25em;color: #696969;}#sk-container-id-1 label.sk-toggleable__label-arrow:hover:before {color: black;}#sk-container-id-1 div.sk-estimator:hover label.sk-toggleable__label-arrow:before {color: black;}#sk-container-id-1 div.sk-toggleable__content {max-height: 0;max-width: 0;overflow: hidden;text-align: left;background-color: #f0f8ff;}#sk-container-id-1 div.sk-toggleable__content pre {margin: 0.2em;color: black;border-radius: 0.25em;background-color: #f0f8ff;}#sk-container-id-1 input.sk-toggleable__control:checked~div.sk-toggleable__content {max-height: 200px;max-width: 100%;overflow: auto;}#sk-container-id-1 input.sk-toggleable__control:checked~label.sk-toggleable__label-arrow:before {content: \"▾\";}#sk-container-id-1 div.sk-estimator input.sk-toggleable__control:checked~label.sk-toggleable__label {background-color: #d4ebff;}#sk-container-id-1 div.sk-label input.sk-toggleable__control:checked~label.sk-toggleable__label {background-color: #d4ebff;}#sk-container-id-1 input.sk-hidden--visually {border: 0;clip: rect(1px 1px 1px 1px);clip: rect(1px, 1px, 1px, 1px);height: 1px;margin: -1px;overflow: hidden;padding: 0;position: absolute;width: 1px;}#sk-container-id-1 div.sk-estimator {font-family: monospace;background-color: #f0f8ff;border: 1px dotted black;border-radius: 0.25em;box-sizing: border-box;margin-bottom: 0.5em;}#sk-container-id-1 div.sk-estimator:hover {background-color: #d4ebff;}#sk-container-id-1 div.sk-parallel-item::after {content: \"\";width: 100%;border-bottom: 1px solid gray;flex-grow: 1;}#sk-container-id-1 div.sk-label:hover label.sk-toggleable__label {background-color: #d4ebff;}#sk-container-id-1 div.sk-serial::before {content: \"\";position: absolute;border-left: 1px solid gray;box-sizing: border-box;top: 0;bottom: 0;left: 50%;z-index: 0;}#sk-container-id-1 div.sk-serial {display: flex;flex-direction: column;align-items: center;background-color: white;padding-right: 0.2em;padding-left: 0.2em;position: relative;}#sk-container-id-1 div.sk-item {position: relative;z-index: 1;}#sk-container-id-1 div.sk-parallel {display: flex;align-items: stretch;justify-content: center;background-color: white;position: relative;}#sk-container-id-1 div.sk-item::before, #sk-container-id-1 div.sk-parallel-item::before {content: \"\";position: absolute;border-left: 1px solid gray;box-sizing: border-box;top: 0;bottom: 0;left: 50%;z-index: -1;}#sk-container-id-1 div.sk-parallel-item {display: flex;flex-direction: column;z-index: 1;position: relative;background-color: white;}#sk-container-id-1 div.sk-parallel-item:first-child::after {align-self: flex-end;width: 50%;}#sk-container-id-1 div.sk-parallel-item:last-child::after {align-self: flex-start;width: 50%;}#sk-container-id-1 div.sk-parallel-item:only-child::after {width: 0;}#sk-container-id-1 div.sk-dashed-wrapped {border: 1px dashed gray;margin: 0 0.4em 0.5em 0.4em;box-sizing: border-box;padding-bottom: 0.4em;background-color: white;}#sk-container-id-1 div.sk-label label {font-family: monospace;font-weight: bold;display: inline-block;line-height: 1.2em;}#sk-container-id-1 div.sk-label-container {text-align: center;}#sk-container-id-1 div.sk-container {/* jupyter's `normalize.less` sets `[hidden] { display: none; }` but bootstrap.min.css set `[hidden] { display: none !important; }` so we also need the `!important` here to be able to override the default hidden behavior on the sphinx rendered scikit-learn.org. See: https://github.com/scikit-learn/scikit-learn/issues/21755 */display: inline-block !important;position: relative;}#sk-container-id-1 div.sk-text-repr-fallback {display: none;}</style><div id=\"sk-container-id-1\" class=\"sk-top-container\"><div class=\"sk-text-repr-fallback\"><pre>KMeans(n_clusters=4, random_state=10)</pre><b>In a Jupyter environment, please rerun this cell to show the HTML representation or trust the notebook. <br />On GitHub, the HTML representation is unable to render, please try loading this page with nbviewer.org.</b></div><div class=\"sk-container\" hidden><div class=\"sk-item\"><div class=\"sk-estimator sk-toggleable\"><input class=\"sk-toggleable__control sk-hidden--visually\" id=\"sk-estimator-id-1\" type=\"checkbox\" checked><label for=\"sk-estimator-id-1\" class=\"sk-toggleable__label sk-toggleable__label-arrow\">KMeans</label><div class=\"sk-toggleable__content\"><pre>KMeans(n_clusters=4, random_state=10)</pre></div></div></div></div></div>"
            ],
            "text/plain": [
              "KMeans(n_clusters=4, random_state=10)"
            ]
          },
          "execution_count": 13,
          "metadata": {},
          "output_type": "execute_result"
        }
      ],
      "source": [
        "kmeans = KMeans(n_clusters = 4, random_state=10)\n",
        "kmeans.fit(scaled_col)"
      ]
    },
    {
      "cell_type": "code",
      "execution_count": 14,
      "metadata": {
        "id": "4dqr2TBbObFj"
      },
      "outputs": [],
      "source": [
        "pred = kmeans.predict(scaled_col)"
      ]
    },
    {
      "cell_type": "code",
      "execution_count": 15,
      "metadata": {
        "colab": {
          "base_uri": "https://localhost:8080/"
        },
        "id": "coUBE35UOfiR",
        "outputId": "0eb04b1c-1f52-4761-b8ac-4f06d5b694ce"
      },
      "outputs": [
        {
          "data": {
            "text/plain": [
              "array([3, 1, 3, 0, 2, 1, 2, 1, 1, 1, 0, 3, 1, 1, 1, 2, 0, 0, 0, 0, 1, 1,\n",
              "       0, 0, 1, 1, 0, 2, 1, 3, 3, 0, 0, 1, 0, 1, 1, 0, 1, 2, 0, 0, 1, 3,\n",
              "       1, 1, 0, 0, 1, 1, 0, 0, 0, 0, 3, 1, 1, 3, 1, 2, 1, 3, 1, 0, 0, 0,\n",
              "       0, 0, 0, 3, 1, 3, 1, 0, 1, 3, 0, 0, 3, 3, 3, 0, 0, 0, 0, 0, 0, 0,\n",
              "       3, 3, 0, 0, 1, 0, 1, 1, 0, 1, 3, 0, 3, 1, 0, 1, 0, 1, 2, 3, 0, 1,\n",
              "       3, 0, 3, 1, 2, 0, 1, 3, 0, 1, 0, 1, 1, 2, 1, 0, 0, 3, 1, 1, 1, 3,\n",
              "       3, 0, 3, 1, 3, 0, 3, 1, 0, 0, 1, 0, 0, 1, 0, 3, 2, 3, 1, 1, 0, 3,\n",
              "       1, 1, 0, 0, 3, 0, 0, 0, 0, 0, 0, 3, 3, 2, 3, 0, 0, 1, 0, 3, 3, 0,\n",
              "       0, 0, 1, 0, 3, 0, 1, 0, 0, 1, 0, 3, 0, 3, 3, 3, 0, 1, 0, 1, 3, 1,\n",
              "       3, 1, 3, 1, 3, 0, 0, 1, 0, 3, 1, 3, 3, 1, 3, 0, 1, 3, 0, 0, 1, 0,\n",
              "       1, 0, 1, 0, 0, 0, 0, 1, 0, 1, 0, 1, 0, 0, 2, 3, 3, 0, 0, 3, 0, 3,\n",
              "       1, 3, 3, 3, 1, 1, 0, 0, 1, 0, 3, 1, 0, 0, 0, 3, 0, 3, 3, 0, 0, 0,\n",
              "       1, 0, 0, 2, 3, 3, 3, 1, 0, 1, 0, 1, 0, 0, 1, 1, 3, 1, 1, 3, 0, 0,\n",
              "       0, 3, 0, 0, 0, 3, 1, 1, 1, 0, 1, 0, 0, 0, 2, 3, 0, 0, 1, 0, 3, 3,\n",
              "       1, 3, 1, 3, 3, 1, 3, 2, 3, 0, 0, 0, 3, 3, 0, 3, 3, 0, 0, 0, 0, 1,\n",
              "       1, 2, 3, 1, 1, 1, 0, 0, 0, 3, 0, 3, 1, 1, 1, 1, 0, 0, 1, 1, 3, 1,\n",
              "       1, 1, 0, 0, 0, 1, 1, 0, 3, 1, 3, 0, 1, 0, 1, 0, 0, 1, 0, 0, 3, 1,\n",
              "       0, 0, 1, 3, 1, 1, 1, 1, 3, 3, 0, 3, 3, 0, 0, 0, 0, 1, 1, 0, 1, 3,\n",
              "       2, 1, 1, 3, 0, 0, 0, 0, 0, 1, 1, 0, 1, 2, 1, 1, 3, 3, 0, 0, 2, 0,\n",
              "       3, 3, 1, 0, 3, 0, 0, 1, 1, 2, 3, 3, 1, 1, 0, 3, 3, 1, 0, 3, 0, 0,\n",
              "       0, 0, 0, 1, 0, 2, 3, 3, 1, 1, 0, 0, 0, 2, 1, 0, 1, 0, 1, 1, 1, 1,\n",
              "       1, 1, 0, 0, 3, 0, 3, 2, 0, 1, 0, 1, 0, 1, 3, 0, 1, 1, 1, 3, 1, 0,\n",
              "       3, 0, 0, 0, 3, 0, 1, 0, 1])"
            ]
          },
          "execution_count": 15,
          "metadata": {},
          "output_type": "execute_result"
        }
      ],
      "source": [
        "pred"
      ]
    },
    {
      "cell_type": "code",
      "execution_count": 16,
      "metadata": {
        "id": "-lQftdj3Ogz-"
      },
      "outputs": [],
      "source": [
        "data['cluster'] = pred"
      ]
    },
    {
      "cell_type": "code",
      "execution_count": 17,
      "metadata": {
        "colab": {
          "base_uri": "https://localhost:8080/",
          "height": 307
        },
        "id": "bYJ9u9SAOkre",
        "outputId": "9319d191-ce2a-4722-c819-3cfdd530fd77"
      },
      "outputs": [
        {
          "data": {
            "text/html": [
              "<div>\n",
              "<style scoped>\n",
              "    .dataframe tbody tr th:only-of-type {\n",
              "        vertical-align: middle;\n",
              "    }\n",
              "\n",
              "    .dataframe tbody tr th {\n",
              "        vertical-align: top;\n",
              "    }\n",
              "\n",
              "    .dataframe thead th {\n",
              "        text-align: right;\n",
              "    }\n",
              "</style>\n",
              "<table border=\"1\" class=\"dataframe\">\n",
              "  <thead>\n",
              "    <tr style=\"text-align: right;\">\n",
              "      <th></th>\n",
              "      <th>name_of_city</th>\n",
              "      <th>state_code</th>\n",
              "      <th>state_name</th>\n",
              "      <th>dist_code</th>\n",
              "      <th>population_total</th>\n",
              "      <th>population_male</th>\n",
              "      <th>population_female</th>\n",
              "      <th>0-6_population_total</th>\n",
              "      <th>0-6_population_male</th>\n",
              "      <th>0-6_population_female</th>\n",
              "      <th>...</th>\n",
              "      <th>sex_ratio</th>\n",
              "      <th>child_sex_ratio</th>\n",
              "      <th>effective_literacy_rate_total</th>\n",
              "      <th>effective_literacy_rate_male</th>\n",
              "      <th>effective_literacy_rate_female</th>\n",
              "      <th>location</th>\n",
              "      <th>total_graduates</th>\n",
              "      <th>male_graduates</th>\n",
              "      <th>female_graduates</th>\n",
              "      <th>cluster</th>\n",
              "    </tr>\n",
              "  </thead>\n",
              "  <tbody>\n",
              "    <tr>\n",
              "      <th>0</th>\n",
              "      <td>Abohar</td>\n",
              "      <td>3</td>\n",
              "      <td>PUNJAB</td>\n",
              "      <td>9</td>\n",
              "      <td>145238</td>\n",
              "      <td>76840</td>\n",
              "      <td>68398</td>\n",
              "      <td>15870</td>\n",
              "      <td>8587</td>\n",
              "      <td>7283</td>\n",
              "      <td>...</td>\n",
              "      <td>890</td>\n",
              "      <td>848</td>\n",
              "      <td>79.86</td>\n",
              "      <td>85.49</td>\n",
              "      <td>73.59</td>\n",
              "      <td>30.1452928,74.1993043</td>\n",
              "      <td>16287</td>\n",
              "      <td>8612</td>\n",
              "      <td>7675</td>\n",
              "      <td>3</td>\n",
              "    </tr>\n",
              "    <tr>\n",
              "      <th>1</th>\n",
              "      <td>Achalpur</td>\n",
              "      <td>27</td>\n",
              "      <td>MAHARASHTRA</td>\n",
              "      <td>7</td>\n",
              "      <td>112293</td>\n",
              "      <td>58256</td>\n",
              "      <td>54037</td>\n",
              "      <td>11810</td>\n",
              "      <td>6186</td>\n",
              "      <td>5624</td>\n",
              "      <td>...</td>\n",
              "      <td>928</td>\n",
              "      <td>909</td>\n",
              "      <td>91.99</td>\n",
              "      <td>94.77</td>\n",
              "      <td>89.00</td>\n",
              "      <td>21.257584,77.5086754</td>\n",
              "      <td>8863</td>\n",
              "      <td>5269</td>\n",
              "      <td>3594</td>\n",
              "      <td>1</td>\n",
              "    </tr>\n",
              "    <tr>\n",
              "      <th>2</th>\n",
              "      <td>Adilabad</td>\n",
              "      <td>28</td>\n",
              "      <td>ANDHRA PRADESH</td>\n",
              "      <td>1</td>\n",
              "      <td>117388</td>\n",
              "      <td>59232</td>\n",
              "      <td>58156</td>\n",
              "      <td>13103</td>\n",
              "      <td>6731</td>\n",
              "      <td>6372</td>\n",
              "      <td>...</td>\n",
              "      <td>982</td>\n",
              "      <td>947</td>\n",
              "      <td>80.51</td>\n",
              "      <td>88.18</td>\n",
              "      <td>72.73</td>\n",
              "      <td>19.0809075,79.560344</td>\n",
              "      <td>10565</td>\n",
              "      <td>6797</td>\n",
              "      <td>3768</td>\n",
              "      <td>3</td>\n",
              "    </tr>\n",
              "    <tr>\n",
              "      <th>3</th>\n",
              "      <td>Adityapur</td>\n",
              "      <td>20</td>\n",
              "      <td>JHARKHAND</td>\n",
              "      <td>24</td>\n",
              "      <td>173988</td>\n",
              "      <td>91495</td>\n",
              "      <td>82493</td>\n",
              "      <td>23042</td>\n",
              "      <td>12063</td>\n",
              "      <td>10979</td>\n",
              "      <td>...</td>\n",
              "      <td>902</td>\n",
              "      <td>910</td>\n",
              "      <td>83.46</td>\n",
              "      <td>89.98</td>\n",
              "      <td>76.23</td>\n",
              "      <td>22.7834741,86.1576889</td>\n",
              "      <td>19225</td>\n",
              "      <td>12189</td>\n",
              "      <td>7036</td>\n",
              "      <td>0</td>\n",
              "    </tr>\n",
              "    <tr>\n",
              "      <th>4</th>\n",
              "      <td>Adoni</td>\n",
              "      <td>28</td>\n",
              "      <td>ANDHRA PRADESH</td>\n",
              "      <td>21</td>\n",
              "      <td>166537</td>\n",
              "      <td>82743</td>\n",
              "      <td>83794</td>\n",
              "      <td>18406</td>\n",
              "      <td>9355</td>\n",
              "      <td>9051</td>\n",
              "      <td>...</td>\n",
              "      <td>1013</td>\n",
              "      <td>968</td>\n",
              "      <td>68.38</td>\n",
              "      <td>76.58</td>\n",
              "      <td>60.33</td>\n",
              "      <td>15.6322227,77.2728368</td>\n",
              "      <td>11902</td>\n",
              "      <td>7871</td>\n",
              "      <td>4031</td>\n",
              "      <td>2</td>\n",
              "    </tr>\n",
              "  </tbody>\n",
              "</table>\n",
              "<p>5 rows × 23 columns</p>\n",
              "</div>"
            ],
            "text/plain": [
              "  name_of_city  state_code      state_name  dist_code  population_total  \\\n",
              "0      Abohar            3          PUNJAB          9            145238   \n",
              "1    Achalpur           27     MAHARASHTRA          7            112293   \n",
              "2    Adilabad           28  ANDHRA PRADESH          1            117388   \n",
              "3   Adityapur           20       JHARKHAND         24            173988   \n",
              "4       Adoni           28  ANDHRA PRADESH         21            166537   \n",
              "\n",
              "   population_male  population_female  0-6_population_total  \\\n",
              "0            76840              68398                 15870   \n",
              "1            58256              54037                 11810   \n",
              "2            59232              58156                 13103   \n",
              "3            91495              82493                 23042   \n",
              "4            82743              83794                 18406   \n",
              "\n",
              "   0-6_population_male  0-6_population_female  ...  sex_ratio  \\\n",
              "0                 8587                   7283  ...        890   \n",
              "1                 6186                   5624  ...        928   \n",
              "2                 6731                   6372  ...        982   \n",
              "3                12063                  10979  ...        902   \n",
              "4                 9355                   9051  ...       1013   \n",
              "\n",
              "   child_sex_ratio  effective_literacy_rate_total  \\\n",
              "0              848                          79.86   \n",
              "1              909                          91.99   \n",
              "2              947                          80.51   \n",
              "3              910                          83.46   \n",
              "4              968                          68.38   \n",
              "\n",
              "   effective_literacy_rate_male  effective_literacy_rate_female  \\\n",
              "0                         85.49                           73.59   \n",
              "1                         94.77                           89.00   \n",
              "2                         88.18                           72.73   \n",
              "3                         89.98                           76.23   \n",
              "4                         76.58                           60.33   \n",
              "\n",
              "                location  total_graduates  male_graduates female_graduates  \\\n",
              "0  30.1452928,74.1993043            16287            8612             7675   \n",
              "1   21.257584,77.5086754             8863            5269             3594   \n",
              "2   19.0809075,79.560344            10565            6797             3768   \n",
              "3  22.7834741,86.1576889            19225           12189             7036   \n",
              "4  15.6322227,77.2728368            11902            7871             4031   \n",
              "\n",
              "   cluster  \n",
              "0        3  \n",
              "1        1  \n",
              "2        3  \n",
              "3        0  \n",
              "4        2  \n",
              "\n",
              "[5 rows x 23 columns]"
            ]
          },
          "execution_count": 17,
          "metadata": {},
          "output_type": "execute_result"
        }
      ],
      "source": [
        "data.head()"
      ]
    },
    {
      "cell_type": "code",
      "execution_count": 20,
      "metadata": {
        "colab": {
          "base_uri": "https://localhost:8080/",
          "height": 578
        },
        "id": "c_lsL6RaOnqe",
        "outputId": "48268730-e440-485f-d421-83879d8c3048"
      },
      "outputs": [
        {
          "data": {
            "image/png": "[encoded data removed]",
            "text/plain": [
              "<Figure size 720x576 with 1 Axes>"
            ]
          },
          "metadata": {
            "needs_background": "light"
          },
          "output_type": "display_data"
        }
      ],
      "source": [
        "plt.figure(figsize=(10, 8))\n",
        "plt.scatter(selected_col, data['population_total'], c = data['cluster'], marker='o', s = 50)\n",
        "plt.title('Clusters created by K-Means Algorithm', fontsize=20)\n",
        "plt.xlabel('Effective Literacy Rate', fontsize=16)\n",
        "plt.show()"
      ]
    },
    {
      "cell_type": "code",
      "execution_count": null,
      "metadata": {
        "id": "sytDlo_oPJVx"
      },
      "outputs": [],
      "source": []
    }
  ],
  "metadata": {
    "colab": {
      "provenance": []
    },
    "kernelspec": {
      "display_name": "Python 3",
      "name": "python3"
    },
    "language_info": {
      "codemirror_mode": {
        "name": "ipython",
        "version": 3
      },
      "file_extension": ".py",
      "mimetype": "text/x-python",
      "name": "python",
      "nbconvert_exporter": "python",
      "pygments_lexer": "ipython3",
      "version": "3.9.7"
    }
  },
  "nbformat": 4,
  "nbformat_minor": 0
}
