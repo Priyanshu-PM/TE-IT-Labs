{
  "cells": [
    {
      "cell_type": "code",
      "execution_count": null,
      "id": "42704ef4",
      "metadata": {
        "id": "42704ef4"
      },
      "outputs": [],
      "source": [
        "import pandas as pd\n",
        "import csv\n",
        "from mlxtend.preprocessing import TransactionEncoder\n",
        "from mlxtend.frequent_patterns import apriori,association_rules\n",
        "from itertools import groupby"
      ]
    },
    {
      "cell_type": "code",
      "execution_count": null,
      "id": "e527b803",
      "metadata": {
        "id": "e527b803"
      },
      "outputs": [],
      "source": []
    },
    {
      "cell_type": "code",
      "execution_count": null,
      "id": "b57f54e6",
      "metadata": {
        "id": "b57f54e6"
      },
      "outputs": [],
      "source": [
        "data = []\n",
        "\n",
        "with open(\"Order3.csv\") as file:\n",
        "    reader = csv.reader(file,delimiter = ',')\n",
        "    for row in reader:\n",
        "        data+=[row]\n"
      ]
    },
    {
      "cell_type": "code",
      "execution_count": null,
      "id": "1fd985a1",
      "metadata": {
        "id": "1fd985a1",
        "outputId": "83a76b43-044c-4ad4-ece3-e9b5dc80b48b"
      },
      "outputs": [
        {
          "data": {
            "text/html": [
              "<div>\n",
              "<style scoped>\n",
              "    .dataframe tbody tr th:only-of-type {\n",
              "        vertical-align: middle;\n",
              "    }\n",
              "\n",
              "    .dataframe tbody tr th {\n",
              "        vertical-align: top;\n",
              "    }\n",
              "\n",
              "    .dataframe thead th {\n",
              "        text-align: right;\n",
              "    }\n",
              "</style>\n",
              "<table border=\"1\" class=\"dataframe\">\n",
              "  <thead>\n",
              "    <tr style=\"text-align: right;\">\n",
              "      <th></th>\n",
              "      <th>TransactionNo</th>\n",
              "      <th>Items</th>\n",
              "      <th>DateTime</th>\n",
              "      <th>Daypart</th>\n",
              "      <th>DayType</th>\n",
              "    </tr>\n",
              "  </thead>\n",
              "  <tbody>\n",
              "    <tr>\n",
              "      <th>0</th>\n",
              "      <td>1</td>\n",
              "      <td>Bread</td>\n",
              "      <td>10/30/2016 9:58</td>\n",
              "      <td>Morning</td>\n",
              "      <td>Weekend</td>\n",
              "    </tr>\n",
              "    <tr>\n",
              "      <th>1</th>\n",
              "      <td>2</td>\n",
              "      <td>Scandinavian</td>\n",
              "      <td>10/30/2016 10:05</td>\n",
              "      <td>Morning</td>\n",
              "      <td>Weekend</td>\n",
              "    </tr>\n",
              "    <tr>\n",
              "      <th>2</th>\n",
              "      <td>2</td>\n",
              "      <td>Scandinavian</td>\n",
              "      <td>10/30/2016 10:05</td>\n",
              "      <td>Morning</td>\n",
              "      <td>Weekend</td>\n",
              "    </tr>\n",
              "    <tr>\n",
              "      <th>3</th>\n",
              "      <td>3</td>\n",
              "      <td>Hot chocolate</td>\n",
              "      <td>10/30/2016 10:07</td>\n",
              "      <td>Morning</td>\n",
              "      <td>Weekend</td>\n",
              "    </tr>\n",
              "    <tr>\n",
              "      <th>4</th>\n",
              "      <td>3</td>\n",
              "      <td>Jam</td>\n",
              "      <td>10/30/2016 10:07</td>\n",
              "      <td>Morning</td>\n",
              "      <td>Weekend</td>\n",
              "    </tr>\n",
              "  </tbody>\n",
              "</table>\n",
              "</div>"
            ],
            "text/plain": [
              "  TransactionNo          Items          DateTime  Daypart  DayType\n",
              "0             1          Bread   10/30/2016 9:58  Morning  Weekend\n",
              "1             2   Scandinavian  10/30/2016 10:05  Morning  Weekend\n",
              "2             2   Scandinavian  10/30/2016 10:05  Morning  Weekend\n",
              "3             3  Hot chocolate  10/30/2016 10:07  Morning  Weekend\n",
              "4             3            Jam  10/30/2016 10:07  Morning  Weekend"
            ]
          },
          "execution_count": 3,
          "metadata": {},
          "output_type": "execute_result"
        }
      ],
      "source": [
        "df = pd.DataFrame(data[1:], columns=data[0])\n",
        "transactions = df.groupby('TransactionNo')['Items'].apply(list).values.tolist()\n",
        "df.head()"
      ]
    },
    {
      "cell_type": "code",
      "execution_count": null,
      "id": "ea83f220",
      "metadata": {
        "id": "ea83f220",
        "outputId": "50240363-8345-4deb-961a-911bdb0cb431"
      },
      "outputs": [
        {
          "name": "stdout",
          "output_type": "stream",
          "text": [
            "[[False False False ... False False False]\n",
            " [False False False ... False False False]\n",
            " [False False False ... False False False]\n",
            " ...\n",
            " [False False False ... False False False]\n",
            " [False False False ... False False False]\n",
            " [False False  True ... False False False]]\n"
          ]
        }
      ],
      "source": [
        "te = TransactionEncoder()\n",
        "te_ary = te.fit_transform(transactions)\n",
        "print(te_ary)\n",
        "df_new = pd.DataFrame(te_ary,columns = te.columns_)"
      ]
    },
    {
      "cell_type": "code",
      "execution_count": null,
      "id": "e9feaa51",
      "metadata": {
        "id": "e9feaa51",
        "outputId": "06abda12-a2de-47d2-d043-f3c802dca18c"
      },
      "outputs": [
        {
          "name": "stdout",
          "output_type": "stream",
          "text": [
            "       antecedents consequents  antecedent support  consequent support  \\\n",
            "0           (Cake)    (Coffee)            0.103856            0.478394   \n",
            "1        (Cookies)    (Coffee)            0.054411            0.478394   \n",
            "2  (Hot chocolate)    (Coffee)            0.058320            0.478394   \n",
            "3          (Juice)    (Coffee)            0.038563            0.478394   \n",
            "4      (Medialuna)    (Coffee)            0.061807            0.478394   \n",
            "5         (Pastry)    (Coffee)            0.086107            0.478394   \n",
            "6       (Sandwich)    (Coffee)            0.071844            0.478394   \n",
            "7          (Toast)    (Coffee)            0.033597            0.478394   \n",
            "\n",
            "    support  confidence      lift  leverage  conviction  zhangs_metric  \n",
            "0  0.054728    0.526958  1.101515  0.005044    1.102664       0.102840  \n",
            "1  0.028209    0.518447  1.083723  0.002179    1.083174       0.081700  \n",
            "2  0.029583    0.507246  1.060311  0.001683    1.058553       0.060403  \n",
            "3  0.020602    0.534247  1.116750  0.002154    1.119919       0.108738  \n",
            "4  0.035182    0.569231  1.189878  0.005614    1.210871       0.170091  \n",
            "5  0.047544    0.552147  1.154168  0.006351    1.164682       0.146161  \n",
            "6  0.038246    0.532353  1.112792  0.003877    1.115384       0.109205  \n",
            "7  0.023666    0.704403  1.472431  0.007593    1.764582       0.332006  \n"
          ]
        }
      ],
      "source": [
        "frequent_items = apriori(df_new,min_support=0.02,use_colnames=True)\n",
        "\n",
        "rules = association_rules(frequent_items,metric=\"confidence\",min_threshold = 0.5)\n",
        "print(rules)"
      ]
    },
    {
      "cell_type": "code",
      "execution_count": null,
      "id": "668ef88f",
      "metadata": {
        "id": "668ef88f"
      },
      "outputs": [],
      "source": []
    }
  ],
  "metadata": {
    "colab": {
      "provenance": []
    },
    "kernelspec": {
      "display_name": "Python 3 (ipykernel)",
      "language": "python",
      "name": "python3"
    },
    "language_info": {
      "codemirror_mode": {
        "name": "ipython",
        "version": 3
      },
      "file_extension": ".py",
      "mimetype": "text/x-python",
      "name": "python",
      "nbconvert_exporter": "python",
      "pygments_lexer": "ipython3",
      "version": "3.10.9"
    }
  },
  "nbformat": 4,
  "nbformat_minor": 5
}
