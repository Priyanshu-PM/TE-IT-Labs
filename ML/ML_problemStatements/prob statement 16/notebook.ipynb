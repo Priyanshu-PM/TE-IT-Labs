{
  "nbformat": 4,
  "nbformat_minor": 0,
  "metadata": {
    "colab": {
      "provenance": []
    },
    "kernelspec": {
      "name": "python3",
      "display_name": "Python 3"
    },
    "language_info": {
      "name": "python"
    }
  },
  "cells": [
    {
      "cell_type": "code",
      "execution_count": 1,
      "metadata": {
        "colab": {
          "base_uri": "https://localhost:8080/"
        },
        "id": "u-hGESoZyUT8",
        "outputId": "e5c35727-22fb-4dd9-bd49-bc27c6d884a5"
      },
      "outputs": [
        {
          "output_type": "stream",
          "name": "stdout",
          "text": [
            "Collecting apyori\n",
            "  Downloading apyori-1.1.2.tar.gz (8.6 kB)\n",
            "  Preparing metadata (setup.py) ... \u001b[?25l\u001b[?25hdone\n",
            "Building wheels for collected packages: apyori\n",
            "  Building wheel for apyori (setup.py) ... \u001b[?25l\u001b[?25hdone\n",
            "  Created wheel for apyori: filename=apyori-1.1.2-py3-none-any.whl size=5955 sha256=5514e2f72a608e03c1b4558cb1d00c71333fe10173e2a3327343e1c110cea551\n",
            "  Stored in directory: /root/.cache/pip/wheels/c4/1a/79/20f55c470a50bb3702a8cb7c94d8ada15573538c7f4baebe2d\n",
            "Successfully built apyori\n",
            "Installing collected packages: apyori\n",
            "Successfully installed apyori-1.1.2\n"
          ]
        }
      ],
      "source": [
        "pip install apyori"
      ]
    },
    {
      "cell_type": "code",
      "source": [
        "import numpy as np\n",
        "import pandas as pd\n",
        "from apyori import apriori\n",
        "import matplotlib.pyplot as plt"
      ],
      "metadata": {
        "id": "EdDuYHILyrKJ"
      },
      "execution_count": 10,
      "outputs": []
    },
    {
      "cell_type": "code",
      "source": [
        "data = pd.read_csv('Order2.csv', header=None)\n",
        "data.info()"
      ],
      "metadata": {
        "colab": {
          "base_uri": "https://localhost:8080/"
        },
        "id": "bjMPtLuWyYeL",
        "outputId": "e57a3d06-8003-43f3-d154-044061abb0a7"
      },
      "execution_count": 16,
      "outputs": [
        {
          "output_type": "stream",
          "name": "stdout",
          "text": [
            "<class 'pandas.core.frame.DataFrame'>\n",
            "RangeIndex: 7501 entries, 0 to 7500\n",
            "Data columns (total 20 columns):\n",
            " #   Column  Non-Null Count  Dtype \n",
            "---  ------  --------------  ----- \n",
            " 0   0       7501 non-null   object\n",
            " 1   1       5747 non-null   object\n",
            " 2   2       4389 non-null   object\n",
            " 3   3       3345 non-null   object\n",
            " 4   4       2529 non-null   object\n",
            " 5   5       1864 non-null   object\n",
            " 6   6       1369 non-null   object\n",
            " 7   7       981 non-null    object\n",
            " 8   8       654 non-null    object\n",
            " 9   9       395 non-null    object\n",
            " 10  10      256 non-null    object\n",
            " 11  11      154 non-null    object\n",
            " 12  12      87 non-null     object\n",
            " 13  13      47 non-null     object\n",
            " 14  14      25 non-null     object\n",
            " 15  15      8 non-null      object\n",
            " 16  16      4 non-null      object\n",
            " 17  17      4 non-null      object\n",
            " 18  18      3 non-null      object\n",
            " 19  19      1 non-null      object\n",
            "dtypes: object(20)\n",
            "memory usage: 1.1+ MB\n"
          ]
        }
      ]
    },
    {
      "cell_type": "code",
      "source": [
        "print('Shape of data is : ', data.shape)"
      ],
      "metadata": {
        "colab": {
          "base_uri": "https://localhost:8080/"
        },
        "id": "Pz9SaoPOy0P-",
        "outputId": "f50f2f52-2c31-4d30-c667-48f27c59f75d"
      },
      "execution_count": 17,
      "outputs": [
        {
          "output_type": "stream",
          "name": "stdout",
          "text": [
            "Shape of data is :  (7501, 20)\n"
          ]
        }
      ]
    },
    {
      "cell_type": "code",
      "source": [
        "records = []\n",
        "for i in range(1,7501):\n",
        "  records.append([str(data.values[i, j]) for j in range(0, 20)])"
      ],
      "metadata": {
        "id": "sFKwCrPmyoiH"
      },
      "execution_count": 28,
      "outputs": []
    },
    {
      "cell_type": "code",
      "source": [
        "print(records[0])"
      ],
      "metadata": {
        "colab": {
          "base_uri": "https://localhost:8080/"
        },
        "id": "yMGNCxEPyzMX",
        "outputId": "7d9cd1cc-7800-4b58-81c3-ea46ca49eb9e"
      },
      "execution_count": 29,
      "outputs": [
        {
          "output_type": "stream",
          "name": "stdout",
          "text": [
            "['burgers', 'meatballs', 'eggs', 'nan', 'nan', 'nan', 'nan', 'nan', 'nan', 'nan', 'nan', 'nan', 'nan', 'nan', 'nan', 'nan', 'nan', 'nan', 'nan', 'nan']\n"
          ]
        }
      ]
    },
    {
      "cell_type": "code",
      "source": [
        "rules = apriori(records, min_support= 0.005, min_confidence=0.2, min_lift = 3, max_length=2)\n",
        "result = list(rules)"
      ],
      "metadata": {
        "id": "8qD1lThLy8p6"
      },
      "execution_count": 30,
      "outputs": []
    },
    {
      "cell_type": "code",
      "source": [
        "for item in result:\n",
        "  pair = item[0]\n",
        "  items = [x for x in pair]\n",
        "  print('Rule ' + items[0] + '-> ' + items[1])\n",
        "  print('Support : ' + str(item[1]))\n",
        "  print('Confidence : ' + str(item[2][0][2]))\n",
        "  print('Lift : ' + str(item[2][0][3]))\n",
        "  print('______________________________________')\n"
      ],
      "metadata": {
        "colab": {
          "base_uri": "https://localhost:8080/"
        },
        "id": "BeThUB-LzADl",
        "outputId": "dd0cdf12-fc97-4508-c62c-d6cc1ac5c7e3"
      },
      "execution_count": 31,
      "outputs": [
        {
          "output_type": "stream",
          "name": "stdout",
          "text": [
            "Rule escalope-> mushroom cream sauce\n",
            "Support : 0.005733333333333333\n",
            "Confidence : 0.30069930069930073\n",
            "Lift : 3.7903273197390845\n",
            "______________________________________\n",
            "Rule escalope-> pasta\n",
            "Support : 0.005866666666666667\n",
            "Confidence : 0.37288135593220345\n",
            "Lift : 4.700185158809287\n",
            "______________________________________\n",
            "Rule ground beef-> herb & pepper\n",
            "Support : 0.016\n",
            "Confidence : 0.3234501347708895\n",
            "Lift : 3.2915549671393096\n",
            "______________________________________\n",
            "Rule ground beef-> tomato sauce\n",
            "Support : 0.005333333333333333\n",
            "Confidence : 0.37735849056603776\n",
            "Lift : 3.840147461662528\n",
            "______________________________________\n",
            "Rule whole wheat pasta-> olive oil\n",
            "Support : 0.008\n",
            "Confidence : 0.2714932126696833\n",
            "Lift : 4.130221288078346\n",
            "______________________________________\n",
            "Rule pasta-> shrimp\n",
            "Support : 0.005066666666666666\n",
            "Confidence : 0.3220338983050848\n",
            "Lift : 4.514493901473151\n",
            "______________________________________\n"
          ]
        }
      ]
    },
    {
      "cell_type": "code",
      "source": [],
      "metadata": {
        "id": "9V76oqTl2DGw"
      },
      "execution_count": null,
      "outputs": []
    }
  ]
}